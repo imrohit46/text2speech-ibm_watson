{
 "cells": [
  {
   "cell_type": "markdown",
   "metadata": {},
   "source": [
    "# Python Text-to-Speech Using IBM Watson"
   ]
  },
  {
   "cell_type": "code",
   "execution_count": 1,
   "metadata": {
    "collapsed": true
   },
   "outputs": [
    {
     "name": "stdout",
     "output_type": "stream",
     "text": [
      "Collecting ibm_watson\n",
      "  Downloading ibm-watson-4.7.1.tar.gz (385 kB)\n",
      "Requirement already satisfied: requests<3.0,>=2.0 in c:\\users\\imrohit46\\anaconda3\\lib\\site-packages (from ibm_watson) (2.24.0)\n",
      "Requirement already satisfied: python_dateutil>=2.5.3 in c:\\users\\imrohit46\\anaconda3\\lib\\site-packages (from ibm_watson) (2.8.1)\n",
      "Collecting websocket-client==0.48.0\n",
      "  Downloading websocket_client-0.48.0-py2.py3-none-any.whl (198 kB)\n",
      "Collecting ibm_cloud_sdk_core==1.7.3\n",
      "  Downloading ibm-cloud-sdk-core-1.7.3.tar.gz (27 kB)\n",
      "Requirement already satisfied: idna<3,>=2.5 in c:\\users\\imrohit46\\anaconda3\\lib\\site-packages (from requests<3.0,>=2.0->ibm_watson) (2.10)\n",
      "Requirement already satisfied: urllib3!=1.25.0,!=1.25.1,<1.26,>=1.21.1 in c:\\users\\imrohit46\\anaconda3\\lib\\site-packages (from requests<3.0,>=2.0->ibm_watson) (1.25.10)\n",
      "Requirement already satisfied: chardet<4,>=3.0.2 in c:\\users\\imrohit46\\anaconda3\\lib\\site-packages (from requests<3.0,>=2.0->ibm_watson) (3.0.4)\n",
      "Requirement already satisfied: certifi>=2017.4.17 in c:\\users\\imrohit46\\anaconda3\\lib\\site-packages (from requests<3.0,>=2.0->ibm_watson) (2020.6.20)\n",
      "Requirement already satisfied: six>=1.5 in c:\\users\\imrohit46\\anaconda3\\lib\\site-packages (from python_dateutil>=2.5.3->ibm_watson) (1.15.0)\n",
      "Collecting PyJWT>=1.7.1\n",
      "  Downloading PyJWT-1.7.1-py2.py3-none-any.whl (18 kB)\n",
      "Building wheels for collected packages: ibm-watson, ibm-cloud-sdk-core\n",
      "  Building wheel for ibm-watson (setup.py): started\n",
      "  Building wheel for ibm-watson (setup.py): finished with status 'done'\n",
      "  Created wheel for ibm-watson: filename=ibm_watson-4.7.1-py3-none-any.whl size=379135 sha256=b1a54a5321ca371dcfbc63c3f962dc95ccf4bb08a767da04f27a4c0bc9636333\n",
      "  Stored in directory: c:\\users\\imrohit46\\appdata\\local\\pip\\cache\\wheels\\63\\0c\\16\\b2af79aace901934f32f1503a95b338c7bdca6ab2cfa0881e6\n",
      "  Building wheel for ibm-cloud-sdk-core (setup.py): started\n",
      "  Building wheel for ibm-cloud-sdk-core (setup.py): finished with status 'done'\n",
      "  Created wheel for ibm-cloud-sdk-core: filename=ibm_cloud_sdk_core-1.7.3-py3-none-any.whl size=45946 sha256=15eff3322cddc2aae597d3b8052e0a5b6de1d325676b217c62419d0e37e8acff\n",
      "  Stored in directory: c:\\users\\imrohit46\\appdata\\local\\pip\\cache\\wheels\\c6\\5f\\fb\\c2daef3706ded7e718641a60d097be3116a6b70a8f236753f2\n",
      "Successfully built ibm-watson ibm-cloud-sdk-core\n",
      "Installing collected packages: websocket-client, PyJWT, ibm-cloud-sdk-core, ibm-watson\n",
      "Successfully installed PyJWT-1.7.1 ibm-cloud-sdk-core-1.7.3 ibm-watson-4.7.1 websocket-client-0.48.0\n"
     ]
    }
   ],
   "source": [
    "!pip install ibm_watson"
   ]
  },
  {
   "cell_type": "code",
   "execution_count": 3,
   "metadata": {},
   "outputs": [],
   "source": [
    "from ibm_watson import TextToSpeechV1\n",
    "from ibm_cloud_sdk_core.authenticators import IAMAuthenticator"
   ]
  },
  {
   "cell_type": "code",
   "execution_count": 4,
   "metadata": {},
   "outputs": [],
   "source": [
    "url = \"https://api.eu-gb.text-to-speech.watson.cloud.ibm.com/instances/0c1d5276-3644-4a16-b7b1-716915e788e0\"\n",
    "apikey = \"_sg3T-6JfxYkPuEv34CjWw-s8HVN2Nbz7L8-5Wldo3fk\""
   ]
  },
  {
   "cell_type": "code",
   "execution_count": 5,
   "metadata": {},
   "outputs": [],
   "source": [
    "# Authenticating to use the service\n",
    "\n",
    "auth = IAMAuthenticator(apikey)\n",
    "text_to_speech = TextToSpeechV1(authenticator=auth)\n",
    "text_to_speech.set_service_url(url)"
   ]
  },
  {
   "cell_type": "code",
   "execution_count": 6,
   "metadata": {},
   "outputs": [],
   "source": [
    "# Converting a Basic String to Speech\n",
    "\n",
    "with open(\"speech.mp3\", 'wb') as audio_file:\n",
    "    res = text_to_speech.synthesize(\"Hello, How are you ?\", accept=\"audio/mp3\", voice=\"en-US_AllisonVoice\").get_result()\n",
    "    audio_file.write(res.content)"
   ]
  },
  {
   "cell_type": "code",
   "execution_count": 13,
   "metadata": {},
   "outputs": [],
   "source": [
    "# Reading the file content\n",
    "\n",
    "with open(\"coffee.txt\", \"r\") as f:\n",
    "    text = f.readlines()"
   ]
  },
  {
   "cell_type": "code",
   "execution_count": 14,
   "metadata": {},
   "outputs": [
    {
     "data": {
      "text/plain": [
       "['The Pros and Cons of French Press Coffee. French press makes coffee by steeping the grounds in hot water, and then pressing the grounds out. After the drip coffee maker, it is one of the easiest, least time-consuming ways to make a great cup of coffee. Also, unlike pour over and the Aeropress, it makes it easy to brew coffee for several people at once. But it is prone to bitterness and oiliness, since the coffee is sitting directly on the grounds for a period of time, and this can turn people off. ']"
      ]
     },
     "execution_count": 14,
     "metadata": {},
     "output_type": "execute_result"
    }
   ],
   "source": [
    "text # Observe the below output, it is a list of Strings. We have to convert it to a single large string."
   ]
  },
  {
   "cell_type": "code",
   "execution_count": 15,
   "metadata": {},
   "outputs": [],
   "source": [
    "# Converting the file content to a single large string.\n",
    "\n",
    "text = ''.join(str(line) for line in text)"
   ]
  },
  {
   "cell_type": "code",
   "execution_count": 16,
   "metadata": {},
   "outputs": [
    {
     "data": {
      "text/plain": [
       "'The Pros and Cons of French Press Coffee. French press makes coffee by steeping the grounds in hot water, and then pressing the grounds out. After the drip coffee maker, it is one of the easiest, least time-consuming ways to make a great cup of coffee. Also, unlike pour over and the Aeropress, it makes it easy to brew coffee for several people at once. But it is prone to bitterness and oiliness, since the coffee is sitting directly on the grounds for a period of time, and this can turn people off. '"
      ]
     },
     "execution_count": 16,
     "metadata": {},
     "output_type": "execute_result"
    }
   ],
   "source": [
    "text"
   ]
  },
  {
   "cell_type": "code",
   "execution_count": 17,
   "metadata": {},
   "outputs": [],
   "source": [
    "# Convert a large text from file to Speech\n",
    "\n",
    "with open(\"voice_from_file.mp3\", 'wb') as audio_file:\n",
    "    res = text_to_speech.synthesize(text, accept=\"audio/mp3\", voice=\"en-US_AllisonVoice\").get_result()\n",
    "    audio_file.write(res.content)"
   ]
  },
  {
   "cell_type": "code",
   "execution_count": 18,
   "metadata": {},
   "outputs": [],
   "source": [
    "#New Voice Model - en-US_MichaelVoice\n",
    "with open(\"voice_from_file.mp3\", 'wb') as audio_file:\n",
    "    res = text_to_speech.synthesize(text, accept=\"audio/mp3\", voice=\"en-US_MichaelVoice\").get_result()\n",
    "    audio_file.write(res.content)"
   ]
  },
  {
   "cell_type": "code",
   "execution_count": null,
   "metadata": {},
   "outputs": [],
   "source": []
  }
 ],
 "metadata": {
  "kernelspec": {
   "display_name": "Python 3",
   "language": "python",
   "name": "python3"
  },
  "language_info": {
   "codemirror_mode": {
    "name": "ipython",
    "version": 3
   },
   "file_extension": ".py",
   "mimetype": "text/x-python",
   "name": "python",
   "nbconvert_exporter": "python",
   "pygments_lexer": "ipython3",
   "version": "3.7.9"
  }
 },
 "nbformat": 4,
 "nbformat_minor": 4
}
